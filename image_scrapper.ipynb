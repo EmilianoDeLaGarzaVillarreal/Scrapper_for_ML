{
 "cells": [
  {
   "cell_type": "code",
   "execution_count": 5,
   "id": "79adcd79-bbcc-4d70-94df-c1d8f670e100",
   "metadata": {},
   "outputs": [],
   "source": [
    "from selenium import webdriver\n",
    "from selenium.webdriver.common.keys import Keys\n",
    "import time"
   ]
  },
  {
   "cell_type": "code",
   "execution_count": 27,
   "id": "f177e48e-2f2b-498e-8cb3-8afcde9743e9",
   "metadata": {},
   "outputs": [],
   "source": [
    "driver = webdriver.Edge(\"C:\\edgedriver_win64\\msedgedriver.exe\")\n",
    "driver.get(\"https://www.google.com/\")\n",
    "box = driver.find_element_by_xpath(\"\"\"/html/body/div[1]/div[3]/form/div[1]/div[1]/div[1]/div/div[2]/input\"\"\")\n",
    "box.send_keys(\"pizza images\")\n",
    "box.send_keys(Keys.ENTER)\n",
    "driver.find_element_by_xpath(\"\"\"//*[@id=\"hdtb-msb\"]/div[1]/div/div[2]/a\"\"\").click()\n",
    "\n",
    "#Will keep scrolling down the webpage until it cannot scroll no more\n",
    "# last_height = driver.execute_script('return document.body.scrollHeight')\n",
    "# while True:\n",
    "#     driver.execute_script('window.scrollTo(0,document.body.scrollHeight)')\n",
    "#     time.sleep(2)\n",
    "#     new_height = driver.execute_script('return document.body.scrollHeight')\n",
    "#     try:\n",
    "#         driver.find_element_by_xpath('//*[@id=\"islmp\"]/div/div/div/div/div[5]/input').click()\n",
    "#         time.sleep(2)\n",
    "#     except:\n",
    "#         pass\n",
    "#     if new_height == last_height:\n",
    "#         break\n",
    "#     last_height = new_height\n",
    "    \n",
    "for i in range(1,10):\n",
    "    try:\n",
    "        driver.find_element_by_xpath(\"\"\"//*[@id=\"islrg\"]/div[1]/div[\"\"\"+str(i)+\"\"\"]/a[1]/div[1]/img\"\"\").click()\n",
    "        driver.find_element_by_xpath(\"\"\"//*[@id=\"Sva75c\"]/div[\"\"\"+str(i)+\"\"\"]/div/div/div[3]/div[2]/c-wiz/div[2]/div[1]/div[1]/div[2]/div/a/img\"\"\").screenshot(\"C:\\\\Users\\\\emili\\\\Downloads\\\\whoops\\\\item(\"+str(i)+\").png\")\n",
    "    except:\n",
    "        pass"
   ]
  },
  {
   "cell_type": "code",
   "execution_count": null,
   "id": "33675a53-d9c3-4d97-9b59-2f7a4eeaffc1",
   "metadata": {},
   "outputs": [],
   "source": []
  }
 ],
 "metadata": {
  "kernelspec": {
   "display_name": "Python 3 (ipykernel)",
   "language": "python",
   "name": "python3"
  },
  "language_info": {
   "codemirror_mode": {
    "name": "ipython",
    "version": 3
   },
   "file_extension": ".py",
   "mimetype": "text/x-python",
   "name": "python",
   "nbconvert_exporter": "python",
   "pygments_lexer": "ipython3",
   "version": "3.9.13"
  }
 },
 "nbformat": 4,
 "nbformat_minor": 5
}
